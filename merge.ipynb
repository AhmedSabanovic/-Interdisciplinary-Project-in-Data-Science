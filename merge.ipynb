{
 "cells": [
  {
   "cell_type": "markdown",
   "metadata": {},
   "source": [
    "# Import Required Libraries"
   ]
  },
  {
   "cell_type": "code",
   "execution_count": 61,
   "metadata": {},
   "outputs": [],
   "source": [
    "import pandas as pd "
   ]
  },
  {
   "cell_type": "markdown",
   "metadata": {},
   "source": [
    "# Load the CSV files into pandas DataFrames\n"
   ]
  },
  {
   "cell_type": "code",
   "execution_count": 62,
   "metadata": {},
   "outputs": [],
   "source": [
    "\n",
    "file1 = 'c:\\\\Users\\\\ahmed\\\\Desktop\\\\GEO Test\\\\ascat_era5_era5land_cell1250.csv'\n",
    "file2 = 'c:\\\\Users\\\\ahmed\\\\Desktop\\\\GEO Test\\\\ascat_soil_categories.csv'\n",
    "\n",
    "df1 = pd.read_csv(file1)  \n",
    "df2 = pd.read_csv(file2)  "
   ]
  },
  {
   "cell_type": "markdown",
   "metadata": {},
   "source": [
    "# Merge DataFrames\n",
    "Merge the two DataFrames on the 'gpi_ascat' column using an inner join."
   ]
  },
  {
   "cell_type": "code",
   "execution_count": 63,
   "metadata": {},
   "outputs": [],
   "source": [
    "\n",
    "merged_df = pd.merge(df1, df2, on='gpi_ascat', how='inner')  "
   ]
  },
  {
   "cell_type": "markdown",
   "metadata": {},
   "source": [
    "# Rename 'Unnamed: 0' to 'time'"
   ]
  },
  {
   "cell_type": "code",
   "execution_count": 64,
   "metadata": {},
   "outputs": [],
   "source": [
    "merged_df.rename(columns={'Unnamed: 0': 'time'}, inplace=True)\n",
    "# merged_df.sort_values(by='time', inplace=True)"
   ]
  },
  {
   "cell_type": "markdown",
   "metadata": {},
   "source": [
    "# Drop Duplicate Rows\n"
   ]
  },
  {
   "cell_type": "code",
   "execution_count": 65,
   "metadata": {},
   "outputs": [],
   "source": [
    "# Drop duplicate rows based on the 'gpi_ascat' column\n",
    "# merged_df = merged_df.drop_duplicates(subset='gpi_ascat')  "
   ]
  },
  {
   "cell_type": "markdown",
   "metadata": {},
   "source": [
    "# Save Merged DataFrame\n",
    "Save the merged DataFrame to a new CSV file using the `to_csv` method."
   ]
  },
  {
   "cell_type": "code",
   "execution_count": 66,
   "metadata": {},
   "outputs": [],
   "source": [
    "\n",
    "output_file = 'c:\\\\Users\\\\ahmed\\\\Desktop\\\\GEO Test\\\\ascat_merged.csv'\n",
    "merged_df.to_csv(output_file, index=False)  "
   ]
  }
 ],
 "metadata": {
  "kernelspec": {
   "display_name": "base",
   "language": "python",
   "name": "python3"
  },
  "language_info": {
   "codemirror_mode": {
    "name": "ipython",
    "version": 3
   },
   "file_extension": ".py",
   "mimetype": "text/x-python",
   "name": "python",
   "nbconvert_exporter": "python",
   "pygments_lexer": "ipython3",
   "version": "3.9.12"
  }
 },
 "nbformat": 4,
 "nbformat_minor": 2
}
